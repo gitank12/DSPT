{
 "cells": [
  {
   "cell_type": "markdown",
   "id": "f7af471b",
   "metadata": {},
   "source": [
    "# C5_S5"
   ]
  },
  {
   "cell_type": "markdown",
   "id": "0a069671",
   "metadata": {},
   "source": [
    "# Task 1"
   ]
  },
  {
   "cell_type": "code",
   "execution_count": 1,
   "id": "5525099a",
   "metadata": {},
   "outputs": [],
   "source": [
    "mean = 1332\n",
    "SD  = 725"
   ]
  },
  {
   "cell_type": "markdown",
   "id": "33c0631c",
   "metadata": {},
   "source": [
    "# Task 1a"
   ]
  },
  {
   "cell_type": "code",
   "execution_count": 2,
   "id": "c912a401",
   "metadata": {},
   "outputs": [
    {
     "name": "stdout",
     "output_type": "stream",
     "text": [
      "Z_score is 0.9213793103448276\n"
     ]
    }
   ],
   "source": [
    "a = 2000\n",
    "z_score = (a-mean)/SD\n",
    "print(\"Z_score is \"+str(z_score))"
   ]
  },
  {
   "cell_type": "code",
   "execution_count": 3,
   "id": "fe3befdc",
   "metadata": {},
   "outputs": [
    {
     "name": "stdout",
     "output_type": "stream",
     "text": [
      "0.822\n"
     ]
    }
   ],
   "source": [
    "from scipy.stats import norm\n",
    "\n",
    "pvalue = norm.cdf(z_score)\n",
    "print(round(pvalue,3))"
   ]
  },
  {
   "cell_type": "markdown",
   "id": "ef7178f6",
   "metadata": {},
   "source": [
    "Inorder To find the proportion of the tax returns which is  greater than 2000 USD\n",
    "We remove 0.822 from 1 from which it is the total area under the curve.\n",
    "\n",
    "Probability of x > 2000 = 1 – 0.822 = 0.178\n",
    "\n",
    "Hence it’s likely that only 17.8% ie 18% proportion of tax returns\n",
    "And it is are than 2000 USD."
   ]
  },
  {
   "cell_type": "code",
   "execution_count": 4,
   "id": "049713f8",
   "metadata": {},
   "outputs": [
    {
     "data": {
      "text/plain": [
       "[<matplotlib.lines.Line2D at 0x1c8201a46a0>]"
      ]
     },
     "execution_count": 4,
     "metadata": {},
     "output_type": "execute_result"
    },
    {
     "data": {
      "image/png": "[encoded data removed]",
      "text/plain": [
       "<Figure size 432x288 with 1 Axes>"
      ]
     },
     "metadata": {
      "needs_background": "light"
     },
     "output_type": "display_data"
    }
   ],
   "source": [
    "import matplotlib.pyplot as plt\n",
    "import numpy as np\n",
    "\n",
    "L= mean-4*SD\n",
    "U = mean+4*SD\n",
    "\n",
    "normlimit = np.arange(L,U)\n",
    "plt.plot(normlimit, norm.pdf(normlimit, mean, SD))"
   ]
  },
  {
   "cell_type": "markdown",
   "id": "f3d8bc0c",
   "metadata": {},
   "source": [
    "# Task 1b"
   ]
  },
  {
   "cell_type": "code",
   "execution_count": 5,
   "id": "f8ee91d5",
   "metadata": {},
   "outputs": [
    {
     "name": "stdout",
     "output_type": "stream",
     "text": [
      "z_score of x=0 is =-1.8372413793103448\n",
      "\n",
      "The probability associated with z=-1.8372413793103448 is 0.03308713475892688\n"
     ]
    }
   ],
   "source": [
    "x = 0\n",
    "\n",
    "M = 1332\n",
    "SD = 725\n",
    "\n",
    "z = (x-M)/SD\n",
    "\n",
    "print(\"z_score of x=0 is =\"+str(z))\n",
    "\n",
    "print(\"\\nThe probability associated with z=\"+str(z) +\" is \" +str(norm.cdf(z)))"
   ]
  },
  {
   "cell_type": "markdown",
   "id": "af6b2f97",
   "metadata": {},
   "source": [
    "# Ans: Probability of that a taxpayer = 3.309%"
   ]
  },
  {
   "cell_type": "markdown",
   "id": "75c1645a",
   "metadata": {},
   "source": [
    "# Task 1c"
   ]
  },
  {
   "cell_type": "code",
   "execution_count": 6,
   "id": "4f355fc4",
   "metadata": {},
   "outputs": [
    {
     "name": "stdout",
     "output_type": "stream",
     "text": [
      "z_score of $100 is =-1.6993103448275861\n",
      "z_score of $700 is =-0.8717241379310345\n",
      "\n",
      "The probability associated with z=-1.6993103448275861 is 0.04463036222315338\n",
      "The probability associated with z=-0.8717241379310345 is 0.19167944440584644\n",
      "\n",
      "The proportion of tax returns between 100 USD and 700 USD  0.14704908218269308\n"
     ]
    }
   ],
   "source": [
    "from scipy.stats import norm\n",
    "\n",
    "a1 = 100\n",
    "a2 = 700\n",
    "\n",
    "M = 1332\n",
    "SD = 725\n",
    "\n",
    "b1=(a1-mean)/SD\n",
    "b2=(a2-mean)/SD\n",
    "\n",
    "print(\"z_score of $100 is =\"+str(b1))\n",
    "print(\"z_score of $700 is =\"+str(b2))\n",
    "\n",
    "print(\"\\nThe probability associated with z=\"+str(b1) +\" is \" +str(norm.cdf(b1)))\n",
    "print(\"The probability associated with z=\"+str(b2) +\" is \" +str(norm.cdf(b2)))\n",
    "\n",
    "print(\"\\nThe proportion of tax returns between 100 USD and 700 USD \",\n",
    "      norm.cdf(b2)-norm.cdf(b1))"
   ]
  },
  {
   "cell_type": "markdown",
   "id": "99c89cf4",
   "metadata": {},
   "source": [
    "# Ans:Probability of x between 100 and 700 of the p_value2 - p_value1 = 14.70%"
   ]
  },
  {
   "cell_type": "markdown",
   "id": "d04de531",
   "metadata": {},
   "source": [
    "# Task 2"
   ]
  },
  {
   "cell_type": "code",
   "execution_count": 7,
   "id": "57f49666",
   "metadata": {},
   "outputs": [
    {
     "data": {
      "text/html": [
       "<div>\n",
       "<style scoped>\n",
       "    .dataframe tbody tr th:only-of-type {\n",
       "        vertical-align: middle;\n",
       "    }\n",
       "\n",
       "    .dataframe tbody tr th {\n",
       "        vertical-align: top;\n",
       "    }\n",
       "\n",
       "    .dataframe thead th {\n",
       "        text-align: right;\n",
       "    }\n",
       "</style>\n",
       "<table border=\"1\" class=\"dataframe\">\n",
       "  <thead>\n",
       "    <tr style=\"text-align: right;\">\n",
       "      <th></th>\n",
       "      <th>index</th>\n",
       "      <th>price</th>\n",
       "      <th>speed</th>\n",
       "      <th>hd</th>\n",
       "      <th>ram</th>\n",
       "      <th>screen</th>\n",
       "      <th>cd</th>\n",
       "      <th>multi</th>\n",
       "      <th>premium</th>\n",
       "      <th>ads</th>\n",
       "      <th>trend</th>\n",
       "    </tr>\n",
       "  </thead>\n",
       "  <tbody>\n",
       "    <tr>\n",
       "      <th>0</th>\n",
       "      <td>1</td>\n",
       "      <td>1499</td>\n",
       "      <td>25</td>\n",
       "      <td>80</td>\n",
       "      <td>4</td>\n",
       "      <td>14</td>\n",
       "      <td>no</td>\n",
       "      <td>no</td>\n",
       "      <td>yes</td>\n",
       "      <td>94</td>\n",
       "      <td>1</td>\n",
       "    </tr>\n",
       "    <tr>\n",
       "      <th>1</th>\n",
       "      <td>2</td>\n",
       "      <td>1795</td>\n",
       "      <td>33</td>\n",
       "      <td>85</td>\n",
       "      <td>2</td>\n",
       "      <td>14</td>\n",
       "      <td>no</td>\n",
       "      <td>no</td>\n",
       "      <td>yes</td>\n",
       "      <td>94</td>\n",
       "      <td>1</td>\n",
       "    </tr>\n",
       "    <tr>\n",
       "      <th>2</th>\n",
       "      <td>3</td>\n",
       "      <td>1595</td>\n",
       "      <td>25</td>\n",
       "      <td>170</td>\n",
       "      <td>4</td>\n",
       "      <td>15</td>\n",
       "      <td>no</td>\n",
       "      <td>no</td>\n",
       "      <td>yes</td>\n",
       "      <td>94</td>\n",
       "      <td>1</td>\n",
       "    </tr>\n",
       "    <tr>\n",
       "      <th>3</th>\n",
       "      <td>4</td>\n",
       "      <td>1849</td>\n",
       "      <td>25</td>\n",
       "      <td>170</td>\n",
       "      <td>8</td>\n",
       "      <td>14</td>\n",
       "      <td>no</td>\n",
       "      <td>no</td>\n",
       "      <td>no</td>\n",
       "      <td>94</td>\n",
       "      <td>1</td>\n",
       "    </tr>\n",
       "    <tr>\n",
       "      <th>4</th>\n",
       "      <td>5</td>\n",
       "      <td>3295</td>\n",
       "      <td>33</td>\n",
       "      <td>340</td>\n",
       "      <td>16</td>\n",
       "      <td>14</td>\n",
       "      <td>no</td>\n",
       "      <td>no</td>\n",
       "      <td>yes</td>\n",
       "      <td>94</td>\n",
       "      <td>1</td>\n",
       "    </tr>\n",
       "    <tr>\n",
       "      <th>...</th>\n",
       "      <td>...</td>\n",
       "      <td>...</td>\n",
       "      <td>...</td>\n",
       "      <td>...</td>\n",
       "      <td>...</td>\n",
       "      <td>...</td>\n",
       "      <td>...</td>\n",
       "      <td>...</td>\n",
       "      <td>...</td>\n",
       "      <td>...</td>\n",
       "      <td>...</td>\n",
       "    </tr>\n",
       "    <tr>\n",
       "      <th>6254</th>\n",
       "      <td>6255</td>\n",
       "      <td>1690</td>\n",
       "      <td>100</td>\n",
       "      <td>528</td>\n",
       "      <td>8</td>\n",
       "      <td>15</td>\n",
       "      <td>no</td>\n",
       "      <td>no</td>\n",
       "      <td>yes</td>\n",
       "      <td>39</td>\n",
       "      <td>35</td>\n",
       "    </tr>\n",
       "    <tr>\n",
       "      <th>6255</th>\n",
       "      <td>6256</td>\n",
       "      <td>2223</td>\n",
       "      <td>66</td>\n",
       "      <td>850</td>\n",
       "      <td>16</td>\n",
       "      <td>15</td>\n",
       "      <td>yes</td>\n",
       "      <td>yes</td>\n",
       "      <td>yes</td>\n",
       "      <td>39</td>\n",
       "      <td>35</td>\n",
       "    </tr>\n",
       "    <tr>\n",
       "      <th>6256</th>\n",
       "      <td>6257</td>\n",
       "      <td>2654</td>\n",
       "      <td>100</td>\n",
       "      <td>1200</td>\n",
       "      <td>24</td>\n",
       "      <td>15</td>\n",
       "      <td>yes</td>\n",
       "      <td>no</td>\n",
       "      <td>yes</td>\n",
       "      <td>39</td>\n",
       "      <td>35</td>\n",
       "    </tr>\n",
       "    <tr>\n",
       "      <th>6257</th>\n",
       "      <td>6258</td>\n",
       "      <td>2195</td>\n",
       "      <td>100</td>\n",
       "      <td>850</td>\n",
       "      <td>16</td>\n",
       "      <td>15</td>\n",
       "      <td>yes</td>\n",
       "      <td>no</td>\n",
       "      <td>yes</td>\n",
       "      <td>39</td>\n",
       "      <td>35</td>\n",
       "    </tr>\n",
       "    <tr>\n",
       "      <th>6258</th>\n",
       "      <td>6259</td>\n",
       "      <td>2490</td>\n",
       "      <td>100</td>\n",
       "      <td>850</td>\n",
       "      <td>16</td>\n",
       "      <td>17</td>\n",
       "      <td>yes</td>\n",
       "      <td>no</td>\n",
       "      <td>yes</td>\n",
       "      <td>39</td>\n",
       "      <td>35</td>\n",
       "    </tr>\n",
       "  </tbody>\n",
       "</table>\n",
       "<p>6259 rows × 11 columns</p>\n",
       "</div>"
      ],
      "text/plain": [
       "      index  price  speed    hd  ram  screen   cd multi premium  ads  trend\n",
       "0         1   1499     25    80    4      14   no    no     yes   94      1\n",
       "1         2   1795     33    85    2      14   no    no     yes   94      1\n",
       "2         3   1595     25   170    4      15   no    no     yes   94      1\n",
       "3         4   1849     25   170    8      14   no    no      no   94      1\n",
       "4         5   3295     33   340   16      14   no    no     yes   94      1\n",
       "...     ...    ...    ...   ...  ...     ...  ...   ...     ...  ...    ...\n",
       "6254   6255   1690    100   528    8      15   no    no     yes   39     35\n",
       "6255   6256   2223     66   850   16      15  yes   yes     yes   39     35\n",
       "6256   6257   2654    100  1200   24      15  yes    no     yes   39     35\n",
       "6257   6258   2195    100   850   16      15  yes    no     yes   39     35\n",
       "6258   6259   2490    100   850   16      17  yes    no     yes   39     35\n",
       "\n",
       "[6259 rows x 11 columns]"
      ]
     },
     "execution_count": 7,
     "metadata": {},
     "output_type": "execute_result"
    }
   ],
   "source": [
    "import pandas as pd\n",
    "\n",
    "Data = pd.read_csv(\"DS1_C5_S5_Continuous_Practice_Computers_Data.csv\")\n",
    "Data"
   ]
  },
  {
   "cell_type": "code",
   "execution_count": 9,
   "id": "0213eced",
   "metadata": {},
   "outputs": [
    {
     "name": "stdout",
     "output_type": "stream",
     "text": [
      "     index  price  speed   hd  ram  screen   cd multi premium  ads  trend\n",
      "0     1518   1644     33  107    2      14   no    no     yes  283     10\n",
      "1      317   2399     66  120    4      14   no    no     yes  108      4\n",
      "2     1563   2374     33  120    4      14  yes    no      no  283     10\n",
      "3     1292   1790     33  107    2      14   no    no     yes  246      9\n",
      "4     4229   2015     66  425    8      14  yes   yes     yes  225     19\n",
      "..     ...    ...    ...  ...  ...     ...  ...   ...     ...  ...    ...\n",
      "145    439   3055     50  250    8      17   no    no     yes  139      5\n",
      "146   4238   1798     33  340    4      17   no    no     yes  225     19\n",
      "147   3870   2688     33  212    4      17   no    no      no  273     18\n",
      "148   5451   1838     50  428    4      17  yes   yes     yes  152     26\n",
      "149    221   2635     33  250    8      17   no    no     yes  100      3\n",
      "\n",
      "[150 rows x 11 columns]\n"
     ]
    }
   ],
   "source": [
    "grouped=Data.groupby(['screen']) #group the data with respect to categories of screens\n",
    "screens=Data.screen.unique() #retrieve unique Screens\n",
    "Strat_Sample_df=pd.DataFrame()\n",
    "\n",
    "for s in screens:\n",
    "    s_data=grouped.get_group(s) #retrieve data of the specific category of screen\n",
    "    sample_data=s_data.sample(n=50, random_state=1, replace=True) #reteive 50% sample of from each category of gender\n",
    "    Strat_Sample_df=Strat_Sample_df.append(sample_data, ignore_index=True) #append rows to dataframe\n",
    "    \n",
    "print(Strat_Sample_df)"
   ]
  },
  {
   "cell_type": "code",
   "execution_count": 15,
   "id": "e7d86247",
   "metadata": {},
   "outputs": [
    {
     "name": "stdout",
     "output_type": "stream",
     "text": [
      "Sample Mean =2351.193333333333\n",
      "Sample Median =2224.5\n"
     ]
    }
   ],
   "source": [
    "import statistics as st\n",
    "\n",
    "data=Strat_Sample_df['price'].tolist()\n",
    " \n",
    "mean = st.mean(data) \n",
    "median = st.median(data) \n",
    "\n",
    "print(\"Sample Mean =\"+str(mean)) \n",
    "print(\"Sample Median =\"+str(median))"
   ]
  },
  {
   "cell_type": "code",
   "execution_count": 17,
   "id": "273b69d2",
   "metadata": {},
   "outputs": [
    {
     "name": "stdout",
     "output_type": "stream",
     "text": [
      "Population Mean =2219.576609682058\n",
      "Population Median =2144\n"
     ]
    }
   ],
   "source": [
    "data=Data['price'].tolist()\n",
    "\n",
    "mean = st.mean(data) \n",
    "median = st.median(data) \n",
    "\n",
    "print(\"Population Mean =\"+str(mean)) \n",
    "print(\"Population Median =\"+str(median))"
   ]
  },
  {
   "cell_type": "code",
   "execution_count": 19,
   "id": "a3e43dd3",
   "metadata": {},
   "outputs": [
    {
     "name": "stdout",
     "output_type": "stream",
     "text": [
      "Population SD =580.8039556527063\n",
      "Sample SD from Population SD=7.341369610986166\n",
      "Sample SD =580.8039556527063\n"
     ]
    }
   ],
   "source": [
    "import statistics as st\n",
    "import math\n",
    "\n",
    "#SD\n",
    "p_sd = st.stdev(data)\n",
    "s_sd = st.stdev(data)\n",
    "s_sd_f_p=p_sd/math.sqrt(len(data))\n",
    "print(\"Population SD =\"+str(p_sd))\n",
    "print(\"Sample SD from Population SD=\"+str(s_sd_f_p))\n",
    "print(\"Sample SD =\"+str(s_sd))"
   ]
  },
  {
   "cell_type": "code",
   "execution_count": 21,
   "id": "63bb790d",
   "metadata": {},
   "outputs": [
    {
     "data": {
      "text/plain": [
       "[<matplotlib.lines.Line2D at 0x1c822872970>]"
      ]
     },
     "execution_count": 21,
     "metadata": {},
     "output_type": "execute_result"
    },
    {
     "data": {
      "image/png": "[encoded data removed]",
      "text/plain": [
       "<Figure size 432x288 with 1 Axes>"
      ]
     },
     "metadata": {
      "needs_background": "light"
     },
     "output_type": "display_data"
    }
   ],
   "source": [
    "import matplotlib.pyplot as plt\n",
    "from scipy.stats import norm\n",
    "import numpy as np\n",
    "\n",
    "lower=mean-4*p_sd\n",
    "upper=mean+4*p_sd\n",
    "\n",
    "norm_p=np.arange(lower,upper)\n",
    "plt.plot(norm_p, norm.pdf(norm_p, mean, p_sd))"
   ]
  },
  {
   "cell_type": "code",
   "execution_count": 22,
   "id": "8ba5597c",
   "metadata": {},
   "outputs": [
    {
     "data": {
      "text/plain": [
       "[<matplotlib.lines.Line2D at 0x1c8228e13d0>]"
      ]
     },
     "execution_count": 22,
     "metadata": {},
     "output_type": "execute_result"
    },
    {
     "data": {
      "image/png": "[encoded data removed]",
      "text/plain": [
       "<Figure size 432x288 with 1 Axes>"
      ]
     },
     "metadata": {
      "needs_background": "light"
     },
     "output_type": "display_data"
    }
   ],
   "source": [
    "lower=mean-4*s_sd\n",
    "upper=mean+4*s_sd\n",
    "\n",
    "norm_s=np.arange(lower,upper)\n",
    "plt.plot(norm_s, norm.pdf(norm_s, mean, s_sd), color=\"brown\")"
   ]
  },
  {
   "cell_type": "markdown",
   "id": "20593e8a",
   "metadata": {},
   "source": [
    "# Task 2(1)"
   ]
  },
  {
   "cell_type": "code",
   "execution_count": null,
   "id": "634b813b",
   "metadata": {},
   "outputs": [],
   "source": [
    "from scipy.stats import norm\n",
    "\n",
    "x = 4000\n",
    "\n",
    "s_mean = 2351.1933\n",
    "s_sd = 581.3993\n",
    "\n",
    "z = (x-s_mean)/s_sd\n",
    "\n",
    "print(\"z-score of $4000 is = \"+str(z))\n",
    "\n",
    "print(\"The probability associated with z=\"+str(z) +\" is \" +str(norm.cdf(z)))"
   ]
  },
  {
   "cell_type": "markdown",
   "id": "1008809f",
   "metadata": {},
   "source": [
    "# Task 2(2)"
   ]
  },
  {
   "cell_type": "code",
   "execution_count": 14,
   "id": "9f879753",
   "metadata": {},
   "outputs": [
    {
     "name": "stdout",
     "output_type": "stream",
     "text": [
      "z-score of $4000 is = -4.044024992806149\n",
      "The probability associated with z=-4.044024992806149 is 2.6270657330602077e-05\n"
     ]
    }
   ],
   "source": [
    "from scipy.stats import norm\n",
    "\n",
    "x = 0\n",
    "\n",
    "mean = 2351.1933\n",
    "sd = 581.3993\n",
    "\n",
    "z = (x-mean)/sd\n",
    "\n",
    "print(\"z-score of $4000 is = \"+str(z))\n",
    "\n",
    "print(\"The probability associated with z=\"+str(z) +\" is \" +str(norm.cdf(z)))"
   ]
  },
  {
   "cell_type": "markdown",
   "id": "02b82130",
   "metadata": {},
   "source": [
    "# Task 2(3)1"
   ]
  },
  {
   "cell_type": "code",
   "execution_count": 13,
   "id": "07b6c4ab",
   "metadata": {},
   "outputs": [
    {
     "name": "stdout",
     "output_type": "stream",
     "text": [
      "z-score of $2700 is = 0.5999434467843358\n",
      "\n",
      "The probability associated with z=0.5999434467843358 is 0.7257280370073785\n",
      "\n",
      "The probability that computers' prices in the sample are greater than 2700 USD:\n",
      "P = 1 - value = 27.43 %\n"
     ]
    }
   ],
   "source": [
    "from scipy.stats import norm\n",
    "\n",
    "x = 2700\n",
    "\n",
    "mean = 2351.1933\n",
    "sd = 581.3993\n",
    "\n",
    "z = (x-mean)/sd\n",
    "\n",
    "print(\"z-score of $2700 is = \"+str(z))\n",
    "\n",
    "value = norm.cdf(z)\n",
    "print(\"\\nThe probability associated with z=\"+str(z) +\" is \" +str(value))\n",
    "\n",
    "print(\"\\nThe probability that computers' prices in the sample are greater than 2700 USD:\")\n",
    "print(\"P = 1 - value = \"+str(round((1-value)*100,2))+\" %\")"
   ]
  },
  {
   "cell_type": "markdown",
   "id": "d8a15031",
   "metadata": {},
   "source": [
    "# Task 2(3)2"
   ]
  },
  {
   "cell_type": "code",
   "execution_count": 12,
   "id": "c89c77a5",
   "metadata": {},
   "outputs": [
    {
     "name": "stdout",
     "output_type": "stream",
     "text": [
      "z-score of $1301 is = -1.8063202002479188\n",
      "\n",
      "The probability associated with z=-1.8063202002479188 is 0.03543416915675345\n",
      "\n",
      "The probability that computers' prices in the sample are less than 1301 USD:\n",
      "P = value = 3.54 %\n"
     ]
    }
   ],
   "source": [
    "from scipy.stats import norm\n",
    "\n",
    "x = 1301\n",
    "\n",
    "mean = 2351.1933\n",
    "sd = 581.3993\n",
    "\n",
    "z = (x-mean)/sd\n",
    "\n",
    "print(\"z-score of $1301 is = \"+str(z))\n",
    "\n",
    "value = norm.cdf(z)\n",
    "print(\"\\nThe probability associated with z=\"+str(z) +\" is \" +str(value))\n",
    "\n",
    "print(\"\\nThe probability that computers' prices in the sample are less than 1301 USD:\")\n",
    "print(\"P = value = \"+str(round(value*100,2))+\" %\")"
   ]
  },
  {
   "cell_type": "markdown",
   "id": "cf4d22d0",
   "metadata": {},
   "source": [
    "# Task 2(3)3"
   ]
  },
  {
   "cell_type": "code",
   "execution_count": 11,
   "id": "0c0f4bd6",
   "metadata": {},
   "outputs": [
    {
     "name": "stdout",
     "output_type": "stream",
     "text": [
      "z1-score of $2000 is = -0.6040483708872713\n",
      "z2-score of $2900 is = 0.9439411089762235\n",
      "\n",
      "The probability associated with z1=-0.6040483708872713 is 0.27290574171731397\n",
      "\n",
      "The probability associated with z2=0.9439411089762235 is 0.8274001283908419\n",
      "\n",
      "The probability that computers' prices in the sample are between 2000 USD and 2900 USD:\n",
      "P = p2value - p1value = 55.45 %\n"
     ]
    }
   ],
   "source": [
    "from scipy.stats import norm\n",
    "\n",
    "x1 = 2000\n",
    "x2 = 2900\n",
    "\n",
    "mean = 2351.1933\n",
    "sd = 581.3993\n",
    "\n",
    "z1 = (x1-mean)/sd\n",
    "z2 = (x2-mean)/sd\n",
    "\n",
    "print(\"z1-score of $2000 is = \"+str(z1))\n",
    "print(\"z2-score of $2900 is = \"+str(z2))\n",
    "\n",
    "p1value = norm.cdf(z1)\n",
    "p2value = norm.cdf(z2)\n",
    "print(\"\\nThe probability associated with z1=\"+str(z1) +\" is \" +str(p1value))\n",
    "print(\"\\nThe probability associated with z2=\"+str(z2) +\" is \" +str(p2value))\n",
    "\n",
    "print(\"\\nThe probability that computers' prices in the sample are between 2000 USD and 2900 USD:\")\n",
    "print(\"P = p2value - p1value = \"+str(round((p2value - p1value)*100,2))+\" %\")"
   ]
  },
  {
   "cell_type": "code",
   "execution_count": null,
   "id": "10cd3d96",
   "metadata": {},
   "outputs": [],
   "source": []
  }
 ],
 "metadata": {
  "kernelspec": {
   "display_name": "Python 3 (ipykernel)",
   "language": "python",
   "name": "python3"
  },
  "language_info": {
   "codemirror_mode": {
    "name": "ipython",
    "version": 3
   },
   "file_extension": ".py",
   "mimetype": "text/x-python",
   "name": "python",
   "nbconvert_exporter": "python",
   "pygments_lexer": "ipython3",
   "version": "3.9.7"
  }
 },
 "nbformat": 4,
 "nbformat_minor": 5
}
