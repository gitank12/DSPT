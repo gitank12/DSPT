{
 "cells": [
  {
   "cell_type": "markdown",
   "id": "7f756c26",
   "metadata": {},
   "source": [
    "C5_S6"
   ]
  },
  {
   "cell_type": "markdown",
   "id": "bbd86470",
   "metadata": {},
   "source": [
    "# Task1 set hypothesis"
   ]
  },
  {
   "cell_type": "code",
   "execution_count": null,
   "id": "9946b084",
   "metadata": {},
   "outputs": [],
   "source": [
    "#H0: score = 71\n",
    "#Ha: score>71"
   ]
  },
  {
   "cell_type": "markdown",
   "id": "6740b13f",
   "metadata": {},
   "source": [
    "# Task 1a"
   ]
  },
  {
   "cell_type": "code",
   "execution_count": 1,
   "id": "9bd51e02",
   "metadata": {},
   "outputs": [
    {
     "name": "stdout",
     "output_type": "stream",
     "text": [
      "Sample mean of score =  79.16666666666667\n",
      "Sample variance of scores =  192.16666666666666\n",
      "Sample size of scores =  6\n",
      "degrees of freedom =  5\n"
     ]
    }
   ],
   "source": [
    "import statistics as st\n",
    "import math\n",
    "\n",
    "from scipy.stats import t\n",
    "import matplotlib.pyplot as plt\n",
    "\n",
    "s = [61,93,75,67,84,95]\n",
    "\n",
    "smean = st.mean(s)\n",
    "ssd = st.stdev(s)\n",
    "n = len(s)\n",
    "v = (st.stdev(s))**2\n",
    "dof = n-1\n",
    "\n",
    "print(\"Sample mean of score = \",smean)\n",
    "print(\"Sample variance of scores = \",v)\n",
    "print(\"Sample size of scores = \",n)\n",
    "print(\"degrees of freedom = \",dof)\n"
   ]
  },
  {
   "cell_type": "markdown",
   "id": "9d72f6af",
   "metadata": {},
   "source": [
    "# Task 1 b&c"
   ]
  },
  {
   "cell_type": "code",
   "execution_count": 2,
   "id": "717b6a5c",
   "metadata": {},
   "outputs": [
    {
     "name": "stdout",
     "output_type": "stream",
     "text": [
      "t statistics =  6.2559598643857095\n",
      "t critical = 2.015048372669157\n"
     ]
    }
   ],
   "source": [
    "\n",
    "signal = abs(smean)\n",
    "noise = math.sqrt(v*(n-1))*math.sqrt(1/n)\n",
    "tstat = signal/noise\n",
    "print('t statistics = ',tstat)\n",
    "t_critical = t.ppf(1-0.05,dof)\n",
    "print('t critical = '+str(t_critical))"
   ]
  },
  {
   "cell_type": "code",
   "execution_count": null,
   "id": "5361b1b7",
   "metadata": {},
   "outputs": [],
   "source": [
    " # t statistics (6.25) > +t critical(2.015)  therefore rejection of null hypothesis"
   ]
  },
  {
   "cell_type": "markdown",
   "id": "12558ad2",
   "metadata": {},
   "source": [
    "# Task 1d "
   ]
  },
  {
   "cell_type": "code",
   "execution_count": 4,
   "id": "2e030d98",
   "metadata": {},
   "outputs": [
    {
     "data": {
      "text/plain": [
       "[<matplotlib.lines.Line2D at 0x154eea043a0>]"
      ]
     },
     "execution_count": 4,
     "metadata": {},
     "output_type": "execute_result"
    },
    {
     "data": {
      "image/png": "[encoded data removed]",
      "text/plain": [
       "<Figure size 432x288 with 1 Axes>"
      ]
     },
     "metadata": {
      "needs_background": "light"
     },
     "output_type": "display_data"
    }
   ],
   "source": [
    "from scipy.stats import norm\n",
    "import numpy as np\n",
    "lowers=smean-4*ssd\n",
    "uppers=smean+4*ssd\n",
    "\n",
    "norm_s=np.arange(lowers,uppers)\n",
    "plt.plot(norm_s, norm.pdf(norm_s, smean, ssd), color=\"brown\")"
   ]
  },
  {
   "cell_type": "markdown",
   "id": "2fb6775b",
   "metadata": {},
   "source": [
    "# Task 1e"
   ]
  },
  {
   "cell_type": "code",
   "execution_count": null,
   "id": "733d6ff4",
   "metadata": {},
   "outputs": [],
   "source": [
    "#business decision : mean score fro the class on the test is above 71 "
   ]
  },
  {
   "cell_type": "markdown",
   "id": "2781a9a1",
   "metadata": {},
   "source": [
    "# Task 2a"
   ]
  },
  {
   "cell_type": "code",
   "execution_count": null,
   "id": "464c4bf9",
   "metadata": {},
   "outputs": [],
   "source": [
    "#H0: mu1 - mu2 = 0\n",
    "#Ha: mu1 - mu2 !=0 "
   ]
  },
  {
   "cell_type": "markdown",
   "id": "8ebffbb2",
   "metadata": {},
   "source": [
    "# Task 2b"
   ]
  },
  {
   "cell_type": "code",
   "execution_count": 5,
   "id": "124d7fdd",
   "metadata": {},
   "outputs": [
    {
     "name": "stdout",
     "output_type": "stream",
     "text": [
      "Sample mean of machine 1 =  4.029999999999999\n",
      "Sample mean of machine2 sample =  4.001666666666667\n",
      "Sample variance of machine1 sample =  0.00033333333333333685\n",
      "Sample variance of machine2 sample =  0.00013666666666666084\n",
      "Sample size of machine1 sample =  4\n",
      "Sample siz of machine2 sample =  6\n",
      "degrees of freedom =  8\n"
     ]
    }
   ],
   "source": [
    "m1 = [4.05,4.01,4.04,4.02]\n",
    "m2 = [4.02,3.99,4.01,3.99,4.00,4.00]\n",
    "\n",
    "m1mean = st.mean(m1)\n",
    "m2mean = st.mean(m2)\n",
    "n1 = len(m1)\n",
    "n2 = len(m2)\n",
    "v1 = (st.stdev(m1))**2\n",
    "v2 = (st.stdev(m2))**2\n",
    "dof = n1+n2-2\n",
    "print(\"Sample mean of machine 1 = \",m1mean)\n",
    "print(\"Sample mean of machine2 sample = \",m2mean)\n",
    "print(\"Sample variance of machine1 sample = \",v1)\n",
    "print(\"Sample variance of machine2 sample = \",v2)\n",
    "print(\"Sample size of machine1 sample = \",n1)\n",
    "print(\"Sample siz of machine2 sample = \",n2)\n",
    "print(\"degrees of freedom = \",dof)\n"
   ]
  },
  {
   "cell_type": "markdown",
   "id": "ae5614b9",
   "metadata": {},
   "source": [
    "# Task 2 b&c"
   ]
  },
  {
   "cell_type": "code",
   "execution_count": 6,
   "id": "d08d69c5",
   "metadata": {},
   "outputs": [
    {
     "name": "stdout",
     "output_type": "stream",
     "text": [
      "t statistics =  1.0698385183968115\n",
      "t critical = 3.3553873313333957\n"
     ]
    }
   ],
   "source": [
    "import math\n",
    "from scipy.stats import t\n",
    "alpha = 0.01\n",
    "signal = abs(m1mean-m2mean)\n",
    "noise = math.sqrt(v1*(n1-1) + v2*(n2-1))*math.sqrt(1/n1 + 1/n2)\n",
    "tstat = signal/noise\n",
    "print('t statistics = ',tstat)\n",
    "tcritical = t.ppf(1-alpha/2,dof)\n",
    "print('t critical = '+str(tcritical))"
   ]
  },
  {
   "cell_type": "code",
   "execution_count": null,
   "id": "de83d4ca",
   "metadata": {},
   "outputs": [],
   "source": [
    "#t statistics (1.069) < t critical(3.355) therefore acceptance of null hypothesis"
   ]
  },
  {
   "cell_type": "markdown",
   "id": "f12bb166",
   "metadata": {},
   "source": [
    "# Task 2d"
   ]
  },
  {
   "cell_type": "code",
   "execution_count": 7,
   "id": "24bd77a3",
   "metadata": {},
   "outputs": [
    {
     "data": {
      "image/png": "[encoded data removed]",
      "text/plain": [
       "<Figure size 720x504 with 1 Axes>"
      ]
     },
     "metadata": {
      "needs_background": "light"
     },
     "output_type": "display_data"
    }
   ],
   "source": [
    "import matplotlib.pyplot as plt\n",
    "import numpy as np\n",
    "\n",
    "fig = plt.figure(figsize = (10,7))\n",
    "ax = fig.add_axes([0,0,1,1])\n",
    "data = [m1,m2]\n",
    "plt.boxplot(data,vert=0)\n",
    "ax.set_yticklabels(['machine1','machine2'])\n",
    "plt.show()"
   ]
  },
  {
   "cell_type": "markdown",
   "id": "f3d7ad4f",
   "metadata": {},
   "source": [
    "# Task 2e "
   ]
  },
  {
   "cell_type": "code",
   "execution_count": null,
   "id": "d666c917",
   "metadata": {},
   "outputs": [],
   "source": [
    "#Business implications"
   ]
  },
  {
   "cell_type": "markdown",
   "id": "b7c27d18",
   "metadata": {},
   "source": [
    "# Average fill of these machines is same"
   ]
  },
  {
   "cell_type": "markdown",
   "id": "d7cc482c",
   "metadata": {},
   "source": [
    "# Task 3a"
   ]
  },
  {
   "cell_type": "code",
   "execution_count": null,
   "id": "930514e0",
   "metadata": {},
   "outputs": [],
   "source": [
    "#H0: Average fill for the four machines is equal\n",
    "#H1: Average fill for the four machines is not equal"
   ]
  },
  {
   "cell_type": "markdown",
   "id": "70425a8b",
   "metadata": {},
   "source": [
    "# Task 3 b&c"
   ]
  },
  {
   "cell_type": "code",
   "execution_count": null,
   "id": "8bc67f07",
   "metadata": {},
   "outputs": [],
   "source": [
    "#Need to do ANNOVA TEST"
   ]
  },
  {
   "cell_type": "code",
   "execution_count": 8,
   "id": "99b0a234",
   "metadata": {},
   "outputs": [
    {
     "name": "stdout",
     "output_type": "stream",
     "text": [
      "Length of sample1:  4\n",
      "Length of sample2:  6\n",
      "Length of sample3:  5\n",
      "Length of sample1:  4\n",
      "Length of all samples:  19\n"
     ]
    }
   ],
   "source": [
    "m3 = [4.00,3.97,3.95,3.98,3.97]\n",
    "m4 = [4.01,4.00,3.99,4.02]\n",
    "\n",
    "m3mean = st.mean(m3)\n",
    "m4mean = st.mean(m4)\n",
    "n3 = len(m3)\n",
    "n4 = len(m4)\n",
    "n = n1+n2+n3+n4\n",
    "print('Length of sample1: ',n1)\n",
    "print('Length of sample2: ',n2)\n",
    "print('Length of sample3: ',n3)\n",
    "print('Length of sample1: ',n1)\n",
    "print('Length of all samples: ',n)"
   ]
  },
  {
   "cell_type": "code",
   "execution_count": 9,
   "id": "5ce1c4c2",
   "metadata": {},
   "outputs": [
    {
     "name": "stdout",
     "output_type": "stream",
     "text": [
      "total age from sample 1 :  16.119999999999997\n",
      "total age from sample 2 :  24.009999999999998\n",
      "total age from sample 3 :  19.87\n",
      "total age from sample 4 :  16.02\n",
      "total age from all samples :  76.02\n"
     ]
    }
   ],
   "source": [
    "T1  = sum(m1)\n",
    "T2  = sum(m2)\n",
    "T3  = sum(m3)\n",
    "T4 = sum(m4)\n",
    "T = T1+T2+T3+T4\n",
    "print('total age from sample 1 : ',T1)\n",
    "print('total age from sample 2 : ',T2)\n",
    "print('total age from sample 3 : ',T3)\n",
    "print('total age from sample 4 : ',T4)\n",
    "print('total age from all samples : ',T)\n"
   ]
  },
  {
   "cell_type": "code",
   "execution_count": 10,
   "id": "0fbfae61",
   "metadata": {},
   "outputs": [
    {
     "name": "stdout",
     "output_type": "stream",
     "text": [
      "Mean of sample1 =  4.029999999999999\n",
      "Mean of sample2 =  4.001666666666667\n",
      "Mean of sample3 =  3.974\n",
      "Mean of sample4 =  4.005\n",
      "Mean of all samples =  4.002666666666666\n"
     ]
    }
   ],
   "source": [
    "wholemean = (m1mean+m2mean+m3mean+m4mean)/4\n",
    "print('Mean of sample1 = ',m1mean)\n",
    "print('Mean of sample2 = ',m2mean)\n",
    "print('Mean of sample3 = ',m3mean)\n",
    "print('Mean of sample4 = ',m4mean)\n",
    "print('Mean of all samples = ',wholemean)"
   ]
  },
  {
   "cell_type": "code",
   "execution_count": null,
   "id": "22135528",
   "metadata": {},
   "outputs": [],
   "source": [
    "#SSC"
   ]
  },
  {
   "cell_type": "code",
   "execution_count": 11,
   "id": "2b829052",
   "metadata": {},
   "outputs": [
    {
     "name": "stdout",
     "output_type": "stream",
     "text": [
      "ssc=  0.007125111111110891\n"
     ]
    }
   ],
   "source": [
    "ssc = n1*(m1mean-wholemean)**2 + n2*(m2mean-wholemean)**2 + n3*(m3mean-wholemean)**2 + n4*(m4mean-wholemean)**2\n",
    "print(\"ssc= \",ssc)"
   ]
  },
  {
   "cell_type": "code",
   "execution_count": null,
   "id": "57fd9e68",
   "metadata": {},
   "outputs": [],
   "source": [
    "#Calculating SSE"
   ]
  },
  {
   "cell_type": "code",
   "execution_count": 12,
   "id": "6b7b527d",
   "metadata": {},
   "outputs": [
    {
     "name": "stdout",
     "output_type": "stream",
     "text": [
      "SSE =  0.0035033333333332815\n"
     ]
    }
   ],
   "source": [
    "sse=0\n",
    "for i in m1:\n",
    "    sse=sse+(i-m1mean)**2\n",
    "    \n",
    "for i in m2:\n",
    "    sse=sse+(i-m2mean)**2\n",
    "    \n",
    "for i in m3:\n",
    "    sse = sse+(i-m3mean)**2\n",
    "    \n",
    "for i in m4:\n",
    "    sse = sse+(i-m4mean)**2    \n",
    "    \n",
    "print('SSE = ',sse)"
   ]
  },
  {
   "cell_type": "code",
   "execution_count": null,
   "id": "7e83962d",
   "metadata": {},
   "outputs": [],
   "source": [
    "#SST"
   ]
  },
  {
   "cell_type": "code",
   "execution_count": 13,
   "id": "1818744b",
   "metadata": {},
   "outputs": [
    {
     "name": "stdout",
     "output_type": "stream",
     "text": [
      "SST =  0.010628444444444302\n"
     ]
    }
   ],
   "source": [
    "sst=0\n",
    "for i in m1:\n",
    "    sst=sst+(i-wholemean)**2\n",
    "    \n",
    "for i in m2:\n",
    "    sst=sst+(i-wholemean)**2\n",
    "    \n",
    "for i in m3:\n",
    "    sst=sst+(i-wholemean)**2\n",
    "    \n",
    "for i in m4:\n",
    "    sst=sst+(i-wholemean)**2   \n",
    "    \n",
    "print('SST = ',sst)"
   ]
  },
  {
   "cell_type": "code",
   "execution_count": 14,
   "id": "49a2157f",
   "metadata": {},
   "outputs": [
    {
     "name": "stdout",
     "output_type": "stream",
     "text": [
      "dfc= 3\n",
      "dfe= 15\n",
      "dft= 18\n"
     ]
    }
   ],
   "source": [
    "dfc1 = 4-1\n",
    "dfe1 = 19-4\n",
    "dft1 = 19-1\n",
    "\n",
    "print('dfc=',dfc1)\n",
    "print('dfe=',dfe1)\n",
    "print('dft=',dft1)"
   ]
  },
  {
   "cell_type": "code",
   "execution_count": null,
   "id": "0cf42011",
   "metadata": {},
   "outputs": [],
   "source": [
    "#MSC"
   ]
  },
  {
   "cell_type": "code",
   "execution_count": 15,
   "id": "ebe98ec3",
   "metadata": {},
   "outputs": [
    {
     "name": "stdout",
     "output_type": "stream",
     "text": [
      "msc =  0.0023750370370369638\n"
     ]
    }
   ],
   "source": [
    "msc = ssc/dfc1\n",
    "print('msc = ',msc)"
   ]
  },
  {
   "cell_type": "code",
   "execution_count": null,
   "id": "a3c0f72a",
   "metadata": {},
   "outputs": [],
   "source": [
    "#MSE"
   ]
  },
  {
   "cell_type": "code",
   "execution_count": 16,
   "id": "d8cb2ec1",
   "metadata": {},
   "outputs": [
    {
     "name": "stdout",
     "output_type": "stream",
     "text": [
      "mse =  0.0002335555555555521\n"
     ]
    }
   ],
   "source": [
    "mse = sse/dfe1\n",
    "print('mse = ',mse)"
   ]
  },
  {
   "cell_type": "code",
   "execution_count": null,
   "id": "4df32a67",
   "metadata": {},
   "outputs": [],
   "source": [
    "#F statistic"
   ]
  },
  {
   "cell_type": "code",
   "execution_count": 18,
   "id": "a284cd2c",
   "metadata": {},
   "outputs": [
    {
     "name": "stdout",
     "output_type": "stream",
     "text": [
      "f statistics =  10.169045353631299\n"
     ]
    }
   ],
   "source": [
    "f_stat = msc/mse\n",
    "print('f statistics = ',f_stat)"
   ]
  },
  {
   "cell_type": "code",
   "execution_count": null,
   "id": "ce2e58ff",
   "metadata": {},
   "outputs": [],
   "source": [
    "#f critical"
   ]
  },
  {
   "cell_type": "code",
   "execution_count": 19,
   "id": "8398efa7",
   "metadata": {},
   "outputs": [
    {
     "name": "stdout",
     "output_type": "stream",
     "text": [
      "f critical=  5.416964857818421\n"
     ]
    }
   ],
   "source": [
    "from scipy.stats import f\n",
    "fcrit = f.ppf(1-0.01,dfc1,dfe1)\n",
    "print('f critical= ',fcrit)"
   ]
  },
  {
   "cell_type": "markdown",
   "id": "865ca186",
   "metadata": {},
   "source": [
    "# Task 3d"
   ]
  },
  {
   "cell_type": "code",
   "execution_count": 20,
   "id": "db5b6a28",
   "metadata": {},
   "outputs": [
    {
     "data": {
      "image/png": "[encoded data removed]",
      "text/plain": [
       "<Figure size 720x504 with 1 Axes>"
      ]
     },
     "metadata": {
      "needs_background": "light"
     },
     "output_type": "display_data"
    }
   ],
   "source": [
    "import matplotlib.pyplot as plt\n",
    "import numpy as np\n",
    "\n",
    "fig = plt.figure(figsize = (10,7))\n",
    "ax = fig.add_axes([0,0,1,1])\n",
    "data = [m1,m2,m3,m4]\n",
    "plt.boxplot(data,vert=0)\n",
    "ax.set_yticklabels(['machine1','machine2','machine3','machine4'])\n",
    "plt.show()"
   ]
  },
  {
   "cell_type": "markdown",
   "id": "c02eae1b",
   "metadata": {},
   "source": [
    "# Task 3e"
   ]
  },
  {
   "cell_type": "code",
   "execution_count": null,
   "id": "28fe7e2e",
   "metadata": {},
   "outputs": [],
   "source": [
    "#Business Implications"
   ]
  },
  {
   "cell_type": "code",
   "execution_count": null,
   "id": "60e99ca5",
   "metadata": {},
   "outputs": [],
   "source": [
    "#f_statistics(10.169) > f critical(5.4169) therefore rejection of null hypothesis"
   ]
  },
  {
   "cell_type": "code",
   "execution_count": null,
   "id": "805a80f6",
   "metadata": {},
   "outputs": [],
   "source": [
    "#There is significant difference in average fill of four machines"
   ]
  },
  {
   "cell_type": "code",
   "execution_count": null,
   "id": "6daaa077",
   "metadata": {},
   "outputs": [],
   "source": []
  }
 ],
 "metadata": {
  "kernelspec": {
   "display_name": "Python 3 (ipykernel)",
   "language": "python",
   "name": "python3"
  },
  "language_info": {
   "codemirror_mode": {
    "name": "ipython",
    "version": 3
   },
   "file_extension": ".py",
   "mimetype": "text/x-python",
   "name": "python",
   "nbconvert_exporter": "python",
   "pygments_lexer": "ipython3",
   "version": "3.9.7"
  }
 },
 "nbformat": 4,
 "nbformat_minor": 5
}
