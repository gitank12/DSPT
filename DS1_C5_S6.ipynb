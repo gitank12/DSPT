{
 "cells": [
  {
   "cell_type": "markdown",
   "id": "d70aae54",
   "metadata": {},
   "source": [
    "# C5_S6"
   ]
  },
  {
   "cell_type": "markdown",
   "id": "3232ce69",
   "metadata": {},
   "source": [
    "# Task 1a"
   ]
  },
  {
   "cell_type": "code",
   "execution_count": null,
   "id": "1bdcd162",
   "metadata": {},
   "outputs": [],
   "source": [
    "#H0 : Average Rent of special purpose industrial space $33.88\n",
    "\n",
    "#Ha : Average rent of special purpose industrial space < $33.88"
   ]
  },
  {
   "cell_type": "markdown",
   "id": "581fa693",
   "metadata": {},
   "source": [
    "# Task 1b"
   ]
  },
  {
   "cell_type": "code",
   "execution_count": 1,
   "id": "7e30fa00",
   "metadata": {},
   "outputs": [
    {
     "name": "stdout",
     "output_type": "stream",
     "text": [
      "The Z statistics is  -9.296875000000016\n",
      "The p_value is  7.231705434385679e-21\n",
      "The z-critical value is 1.6448536269514722\n"
     ]
    }
   ],
   "source": [
    "import math\n",
    "from scipy.stats import norm\n",
    "\n",
    "x= 32.18 \n",
    "m = 33.88 \n",
    "Sd = 1.28  \n",
    "n =  49 \n",
    "alpha=0.05 \n",
    "\n",
    "z_statistic = (x-m) / (Sd/math.sqrt(n)) \n",
    "print(\"The Z statistics is \", z_statistic)\n",
    "\n",
    "p_value = norm.sf(abs(z_statistic)) \n",
    "print(\"The p_value is \",str(p_value))\n",
    "\n",
    "z_critical = norm.ppf(1-alpha)\n",
    "print(\"The z-critical value is \"+str(z_critical))"
   ]
  },
  {
   "cell_type": "code",
   "execution_count": null,
   "id": "76d91fd6",
   "metadata": {},
   "outputs": [],
   "source": [
    "critical value = 1.6448536269514722"
   ]
  },
  {
   "cell_type": "markdown",
   "id": "0e33a8d7",
   "metadata": {},
   "source": [
    "# Task 1c"
   ]
  },
  {
   "cell_type": "code",
   "execution_count": 3,
   "id": "44235043",
   "metadata": {},
   "outputs": [
    {
     "data": {
      "text/plain": [
       "True"
      ]
     },
     "execution_count": 3,
     "metadata": {},
     "output_type": "execute_result"
    }
   ],
   "source": [
    "p_value<alpha"
   ]
  },
  {
   "cell_type": "code",
   "execution_count": null,
   "id": "e015433c",
   "metadata": {},
   "outputs": [],
   "source": [
    "Rejection of Null hypothesis"
   ]
  },
  {
   "cell_type": "code",
   "execution_count": 5,
   "id": "3dc8e758",
   "metadata": {},
   "outputs": [
    {
     "data": {
      "text/plain": [
       "True"
      ]
     },
     "execution_count": 5,
     "metadata": {},
     "output_type": "execute_result"
    }
   ],
   "source": [
    "z_statistic < -z_critical"
   ]
  },
  {
   "cell_type": "code",
   "execution_count": null,
   "id": "b719c934",
   "metadata": {},
   "outputs": [],
   "source": [
    "Rejection of null hypothesis"
   ]
  },
  {
   "cell_type": "markdown",
   "id": "769b912a",
   "metadata": {},
   "source": [
    "# Task 1d"
   ]
  },
  {
   "cell_type": "code",
   "execution_count": null,
   "id": "0707a398",
   "metadata": {},
   "outputs": [],
   "source": [
    "#conclusion : Average rent of special purpose industrial space less than $33.88"
   ]
  },
  {
   "cell_type": "markdown",
   "id": "ba0e26e1",
   "metadata": {},
   "source": [
    "# Task 1e"
   ]
  },
  {
   "cell_type": "code",
   "execution_count": null,
   "id": "7ee1ea85",
   "metadata": {},
   "outputs": [],
   "source": [
    "#p_value = 7.2317054"
   ]
  },
  {
   "cell_type": "markdown",
   "id": "75b9c3ad",
   "metadata": {},
   "source": [
    "# Task 2a"
   ]
  },
  {
   "cell_type": "code",
   "execution_count": null,
   "id": "67eb9b58",
   "metadata": {},
   "outputs": [],
   "source": [
    "#H0: Coach thought the different grip helped mac throw = 85\n",
    "#Ha: Coach thought the different grip helped mac throw > 85"
   ]
  },
  {
   "cell_type": "code",
   "execution_count": 6,
   "id": "d3647e3a",
   "metadata": {},
   "outputs": [
    {
     "name": "stdout",
     "output_type": "stream",
     "text": [
      "The Z statistics is  6.734350297014738\n",
      "The p_value is  8.233201952582752e-12\n",
      "The z-critical value is 1.6448536269514722\n"
     ]
    }
   ],
   "source": [
    "import math\n",
    "from scipy.stats import norm\n",
    "\n",
    "x1= 87.5 \n",
    "m1 = 85 \n",
    "Sd1 = 2.1\n",
    "n1 =  32 \n",
    "alpha1=0.05 \n",
    "\n",
    "z_statistic1 = (x1-m1) / (Sd1/math.sqrt(n1)) \n",
    "print(\"The Z statistics is \", z_statistic1)\n",
    "\n",
    "p_value1 = norm.sf(abs(z_statistic1))\n",
    "print(\"The p_value is \",str(p_value1))\n",
    "\n",
    "z_critical1 = norm.ppf(1-alpha1)\n",
    "print(\"The z-critical value is \"+str(z_critical1))"
   ]
  },
  {
   "cell_type": "markdown",
   "id": "fbb46b96",
   "metadata": {},
   "source": [
    "# Task 2b"
   ]
  },
  {
   "cell_type": "code",
   "execution_count": 7,
   "id": "74e15351",
   "metadata": {},
   "outputs": [
    {
     "name": "stdout",
     "output_type": "stream",
     "text": [
      "The z-critical value is 1.6448536269514722\n"
     ]
    }
   ],
   "source": [
    "print(\"The z-critical value is \"+str(z_critical1))"
   ]
  },
  {
   "cell_type": "markdown",
   "id": "3af9ec4c",
   "metadata": {},
   "source": [
    "# Task 2c"
   ]
  },
  {
   "cell_type": "code",
   "execution_count": 8,
   "id": "28846093",
   "metadata": {},
   "outputs": [
    {
     "name": "stdout",
     "output_type": "stream",
     "text": [
      "The Z statistics is  6.734350297014738\n",
      "The p_value is  8.233201952582752e-12\n",
      "The z-critical value is 1.6448536269514722\n"
     ]
    }
   ],
   "source": [
    "print(\"The Z statistics is \", z_statistic1)\n",
    "print(\"The p_value is \",str(p_value1))\n",
    "\n",
    "print(\"The z-critical value is \"+str(z_critical1))"
   ]
  },
  {
   "cell_type": "markdown",
   "id": "432d035d",
   "metadata": {},
   "source": [
    "# Task 2d"
   ]
  },
  {
   "cell_type": "code",
   "execution_count": 9,
   "id": "9f569969",
   "metadata": {},
   "outputs": [
    {
     "data": {
      "text/plain": [
       "True"
      ]
     },
     "execution_count": 9,
     "metadata": {},
     "output_type": "execute_result"
    }
   ],
   "source": [
    "p_value<alpha"
   ]
  },
  {
   "cell_type": "code",
   "execution_count": 10,
   "id": "ad688414",
   "metadata": {},
   "outputs": [
    {
     "data": {
      "text/plain": [
       "True"
      ]
     },
     "execution_count": 10,
     "metadata": {},
     "output_type": "execute_result"
    }
   ],
   "source": [
    "z_statistic < -z_critical"
   ]
  },
  {
   "cell_type": "markdown",
   "id": "7b9842cb",
   "metadata": {},
   "source": [
    "# Rejection of Null hypothesis"
   ]
  },
  {
   "cell_type": "code",
   "execution_count": null,
   "id": "a43e2e7f",
   "metadata": {},
   "outputs": [],
   "source": [
    "#Conclusion : Coach thought the different grip helped mac throw more than 85"
   ]
  },
  {
   "cell_type": "code",
   "execution_count": 12,
   "id": "a7891c51",
   "metadata": {},
   "outputs": [
    {
     "data": {
      "text/plain": [
       "[<matplotlib.lines.Line2D at 0x1c58e837fd0>]"
      ]
     },
     "execution_count": 12,
     "metadata": {},
     "output_type": "execute_result"
    },
    {
     "data": {
      "image/png": "[encoded data removed]",
      "text/plain": [
       "<Figure size 432x288 with 1 Axes>"
      ]
     },
     "metadata": {
      "needs_background": "light"
     },
     "output_type": "display_data"
    }
   ],
   "source": [
    "import matplotlib.pyplot as plt\n",
    "from scipy.stats import norm\n",
    "import numpy as np\n",
    "\n",
    "lower=m1-4*Sd1\n",
    "upper=m1+4*Sd1\n",
    "\n",
    "norm_p=np.arange(lower,upper)\n",
    "plt.plot(norm_p, norm.pdf(norm_p, m1,Sd1))"
   ]
  },
  {
   "cell_type": "markdown",
   "id": "b4e334f9",
   "metadata": {},
   "source": [
    "# Task 2e"
   ]
  },
  {
   "cell_type": "code",
   "execution_count": 13,
   "id": "2fcbcbc1",
   "metadata": {},
   "outputs": [
    {
     "name": "stdout",
     "output_type": "stream",
     "text": [
      "The p_value is  8.233201952582752e-12\n"
     ]
    }
   ],
   "source": [
    "print(\"The p_value is \",str(p_value1))"
   ]
  },
  {
   "cell_type": "markdown",
   "id": "9218e4a5",
   "metadata": {},
   "source": [
    "# Task 3"
   ]
  },
  {
   "cell_type": "code",
   "execution_count": 14,
   "id": "5bfe2669",
   "metadata": {},
   "outputs": [
    {
     "name": "stdout",
     "output_type": "stream",
     "text": [
      "    California  Florida\n",
      "0         2.55     2.25\n",
      "1         2.36     2.40\n",
      "2         2.38     2.19\n",
      "3         2.43     2.39\n",
      "4         2.73     2.39\n",
      "5         2.67     2.50\n",
      "6         2.54     2.33\n",
      "7         2.24     2.33\n",
      "8         2.43     2.40\n",
      "9         2.80     2.49\n",
      "10        2.50     2.19\n",
      "11        2.64     2.29\n",
      "12        2.25     2.59\n",
      "13        2.38     2.23\n",
      "14        2.61     2.41\n",
      "15        2.71     2.56\n",
      "16        2.80     2.48\n",
      "17        2.49     2.29\n",
      "18        2.69     2.28\n",
      "19        2.43     2.39\n",
      "20        2.23     2.59\n",
      "21        2.61     2.58\n",
      "22        2.57     2.53\n",
      "23        2.36     2.26\n",
      "24        2.57     2.39\n",
      "25        2.56     2.58\n",
      "26        2.38     2.29\n",
      "27        2.43     2.27\n",
      "28        2.71     2.45\n",
      "29        2.25     2.56\n",
      "30        2.64      NaN\n",
      "31        2.27      NaN\n",
      "32        2.18      NaN\n"
     ]
    }
   ],
   "source": [
    "import pandas as pd\n",
    "\n",
    "city=pd.read_csv(\"DS1_C5_S6_Hypothesis_I_Practice_CityPrice_Data.csv\")\n",
    "print(city)"
   ]
  },
  {
   "cell_type": "code",
   "execution_count": 15,
   "id": "d74f9aa2",
   "metadata": {},
   "outputs": [
    {
     "name": "stdout",
     "output_type": "stream",
     "text": [
      "    California  Florida\n",
      "0         2.55     2.25\n",
      "1         2.36     2.40\n",
      "2         2.38     2.19\n",
      "3         2.43     2.39\n",
      "4         2.73     2.39\n",
      "5         2.67     2.50\n",
      "6         2.54     2.33\n",
      "7         2.24     2.33\n",
      "8         2.43     2.40\n",
      "9         2.80     2.49\n",
      "10        2.50     2.19\n",
      "11        2.64     2.29\n",
      "12        2.25     2.59\n",
      "13        2.38     2.23\n",
      "14        2.61     2.41\n",
      "15        2.71     2.56\n",
      "16        2.80     2.48\n",
      "17        2.49     2.29\n",
      "18        2.69     2.28\n",
      "19        2.43     2.39\n",
      "20        2.23     2.59\n",
      "21        2.61     2.58\n",
      "22        2.57     2.53\n",
      "23        2.36     2.26\n",
      "24        2.57     2.39\n",
      "25        2.56     2.58\n",
      "26        2.38     2.29\n",
      "27        2.43     2.27\n",
      "28        2.71     2.45\n",
      "29        2.25     2.56\n"
     ]
    }
   ],
   "source": [
    "flo_city=city['Florida']\n",
    "flo_city=city.dropna(inplace=True)\n",
    "print(city)"
   ]
  },
  {
   "cell_type": "code",
   "execution_count": 17,
   "id": "9437d60b",
   "metadata": {},
   "outputs": [
    {
     "name": "stdout",
     "output_type": "stream",
     "text": [
      "Advertising Manager:\n",
      "Mean =2.51\n",
      "Standard Deviation =0.16733200530681508\n",
      "Sample Size =30\n",
      "Variance =0.02799999999999999\n"
     ]
    }
   ],
   "source": [
    "import statistics as st\n",
    "\n",
    "n2 = len(city['California'])\n",
    "mean1 = st.mean(city['California'])\n",
    "sd1 = st.stdev(city['California'])\n",
    "var1 = sd1**2\n",
    "\n",
    "print('Advertising Manager:')\n",
    "print('Mean =' +str(mean1))\n",
    "print('Standard Deviation =' +str(sd1))\n",
    "print('Sample Size =' +str(n2))\n",
    "print('Variance =' +str(var1))\n"
   ]
  },
  {
   "cell_type": "code",
   "execution_count": 19,
   "id": "073a390e",
   "metadata": {},
   "outputs": [
    {
     "name": "stdout",
     "output_type": "stream",
     "text": [
      "\n",
      "Sales Manager:\n",
      "Mean =2.396\n",
      "Standard Deviation =0.12713283848278406\n",
      "Sample Size =30\n",
      "Variance =0.01616275862068966\n"
     ]
    }
   ],
   "source": [
    "n3 = len(city['Florida'])\n",
    "mean2 = st.mean(city['Florida'])\n",
    "sd2 = st.stdev(city['Florida'])\n",
    "var2 = sd2**2\n",
    "\n",
    "print('\\nSales Manager:')\n",
    "print('Mean =' +str(mean2))\n",
    "print('Standard Deviation =' +str(sd2))\n",
    "print('Sample Size =' +str(n3))\n",
    "print('Variance =' +str(var2))"
   ]
  },
  {
   "cell_type": "code",
   "execution_count": null,
   "id": "92e77f4b",
   "metadata": {},
   "outputs": [],
   "source": [
    "#Establish the null and alternate hypothesis"
   ]
  },
  {
   "cell_type": "code",
   "execution_count": null,
   "id": "24926da9",
   "metadata": {},
   "outputs": [],
   "source": [
    "#H0: there is no difference in average price of a liter of a health drink in florida and california\n",
    "\n",
    "#Ha: there is significance difference average price of a liter of a health drink in florida and california"
   ]
  },
  {
   "cell_type": "markdown",
   "id": "467f6b87",
   "metadata": {},
   "source": [
    "# Set the value of alpha"
   ]
  },
  {
   "cell_type": "markdown",
   "id": "18d41d96",
   "metadata": {},
   "source": [
    "# a)99% of confidence level"
   ]
  },
  {
   "cell_type": "code",
   "execution_count": 21,
   "id": "94073f8b",
   "metadata": {},
   "outputs": [
    {
     "data": {
      "text/plain": [
       "2.5758293035489004"
      ]
     },
     "execution_count": 21,
     "metadata": {},
     "output_type": "execute_result"
    }
   ],
   "source": [
    "alpha3 = 0.01\n",
    "zval = norm.ppf(1-(alpha3/2))\n",
    "zval"
   ]
  },
  {
   "cell_type": "code",
   "execution_count": 22,
   "id": "6664111c",
   "metadata": {},
   "outputs": [
    {
     "name": "stdout",
     "output_type": "stream",
     "text": [
      "0.015172090613869968\n",
      "0.21282790938612978\n"
     ]
    }
   ],
   "source": [
    "lhs=(mean1-mean2)-2.5758*(math.sqrt(var1/n2 + var2/n3))\n",
    "rhs=(mean1-mean2)+2.5758*(math.sqrt(var1/n2 + var2/n3))\n",
    "print(lhs)\n",
    "print(rhs)"
   ]
  },
  {
   "cell_type": "code",
   "execution_count": null,
   "id": "d9e3fdf3",
   "metadata": {},
   "outputs": [],
   "source": [
    "  # => 0.01517 <= mu1-mu2 <= 0.21282"
   ]
  },
  {
   "cell_type": "code",
   "execution_count": 23,
   "id": "702f2434",
   "metadata": {},
   "outputs": [
    {
     "data": {
      "text/plain": [
       "0.11399999999999988"
      ]
     },
     "execution_count": 23,
     "metadata": {},
     "output_type": "execute_result"
    }
   ],
   "source": [
    "mean1-mean2"
   ]
  },
  {
   "cell_type": "markdown",
   "id": "998faf12",
   "metadata": {},
   "source": [
    "# b)1% of significance level. "
   ]
  },
  {
   "cell_type": "code",
   "execution_count": 25,
   "id": "64130a8b",
   "metadata": {},
   "outputs": [
    {
     "name": "stdout",
     "output_type": "stream",
     "text": [
      "The Z statistics is  2.9712375969900973\n",
      "The pvalue is 0.002966022168970206\n",
      "The z-critical value is 2.5758293035489004\n"
     ]
    }
   ],
   "source": [
    "alpha3=0.01\n",
    "z_statistics = ((mean1 - mean2)- 0) / (math.sqrt(var1/n2 + var2/n3)) \n",
    "print(\"The Z statistics is \", z_statistics)\n",
    "\n",
    "pvalue = norm.sf(abs(z_statistics))*2 \n",
    "print(\"The pvalue is \"+str(pvalue))\n",
    "\n",
    "z_critical = norm.ppf(1 - alpha3/2) \n",
    "print(\"The z-critical value is \"+str(z_critical))"
   ]
  },
  {
   "cell_type": "markdown",
   "id": "b413cf6b",
   "metadata": {},
   "source": [
    "# Reach a statistical conclusion"
   ]
  },
  {
   "cell_type": "code",
   "execution_count": 26,
   "id": "463f5f56",
   "metadata": {},
   "outputs": [
    {
     "data": {
      "text/plain": [
       "0.005"
      ]
     },
     "execution_count": 26,
     "metadata": {},
     "output_type": "execute_result"
    }
   ],
   "source": [
    "alpha3/2"
   ]
  },
  {
   "cell_type": "code",
   "execution_count": null,
   "id": "5ce5ab8f",
   "metadata": {},
   "outputs": [],
   "source": [
    "#p_value = 0.002966 < alpha/2  which leads to rejection of null hypothesis.\n",
    "\n",
    "#z_statistics=2.97123 > z-critical=2.5758, which leads to rejection of Null Hypothesis."
   ]
  },
  {
   "cell_type": "code",
   "execution_count": 27,
   "id": "230cf8d0",
   "metadata": {},
   "outputs": [
    {
     "data": {
      "text/plain": [
       "-2.2878540202838646"
      ]
     },
     "execution_count": 27,
     "metadata": {},
     "output_type": "execute_result"
    }
   ],
   "source": [
    "from scipy.stats import t\n",
    "x = 1102.75\n",
    "m = 1272\n",
    "sd = 256.266\n",
    "n=12\n",
    "alpha = 0.05\n",
    "dof = n-1\n",
    "t_stat = (x-m) / (sd/math.sqrt(n))\n",
    "t_stat"
   ]
  },
  {
   "cell_type": "code",
   "execution_count": 28,
   "id": "1d927549",
   "metadata": {},
   "outputs": [
    {
     "data": {
      "text/plain": [
       "-2.200985160082949"
      ]
     },
     "execution_count": 28,
     "metadata": {},
     "output_type": "execute_result"
    }
   ],
   "source": [
    "t_crit = t.ppf(alpha/2,dof)\n",
    "t_crit"
   ]
  }
 ],
 "metadata": {
  "kernelspec": {
   "display_name": "Python 3 (ipykernel)",
   "language": "python",
   "name": "python3"
  },
  "language_info": {
   "codemirror_mode": {
    "name": "ipython",
    "version": 3
   },
   "file_extension": ".py",
   "mimetype": "text/x-python",
   "name": "python",
   "nbconvert_exporter": "python",
   "pygments_lexer": "ipython3",
   "version": "3.9.7"
  }
 },
 "nbformat": 4,
 "nbformat_minor": 5
}
